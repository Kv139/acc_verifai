{
 "cells": [
  {
   "cell_type": "markdown",
   "metadata": {},
   "source": [
    "# ReadMe\n",
    "This file is intended to streamline the process of analyzing the data resulting from running the experiments in \"falsifier.py\" and \"mult_obj_falsifier.py\""
   ]
  },
  {
   "cell_type": "markdown",
   "metadata": {},
   "source": [
    "# Imports - TO DO CONDUCT AN ANALYSIS LOL"
   ]
  },
  {
   "cell_type": "code",
   "execution_count": 31,
   "metadata": {},
   "outputs": [],
   "source": [
    "import pandas as pd\n",
    "import os\n",
    "from pathlib import Path\n",
    "import re\n",
    "import numpy as np\n",
    "import matplotlib.pyplot as plt\n",
    "import math\n",
    "from natsort import os_sorted\n",
    "from sklearn.decomposition import PCA, FactorAnalysis\n",
    "from sklearn.preprocessing import StandardScaler\n"
   ]
  },
  {
   "cell_type": "markdown",
   "metadata": {},
   "source": [
    "# Classify File Instances"
   ]
  },
  {
   "cell_type": "code",
   "execution_count": 4,
   "metadata": {},
   "outputs": [],
   "source": [
    "def generate_velocity_csv(folder): #TODO - Either fix verifia for multi-obj or modify for that case\n",
    "    \"\"\"\n",
    "        Builds csv containing velocity data for each simulation using the\n",
    "        corresponding order of the params file returned by verifAI\n",
    "    \"\"\"\n",
    "\n",
    "    ce_reg = r'.*\\d_cex.*'\n",
    "    nc_reg = r'.*no_cex.*'\n",
    "    att_reg = r\".*attacker_crash.*\"\n",
    "\n",
    "\n",
    "    non_ce_reg = [nc_reg,att_reg]\n",
    "    \n",
    "\n",
    "    start = os.getcwd()\n",
    "    v1,v2,v3,v4 = [],[],[],[]\n",
    "\n",
    "    files = os_sorted(os.listdir(folder))\n",
    "\n",
    "    os.chdir(folder)\n",
    "    ce_count = 0\n",
    "    for file in files: #match counter-examples first\n",
    "        found = re.match(ce_reg,  file)\n",
    "        if found:\n",
    "            file_data = pd.read_csv(file)\n",
    "            v1.append(np.array(file_data[\"v1\"]))\n",
    "            v2.append(np.array(file_data[\"v2\"]))\n",
    "            v3.append(np.array(file_data[\"v3\"]))\n",
    "            v4.append(np.array(file_data[\"v4\"]))\n",
    "            ce_count+= 1\n",
    "\n",
    "    \n",
    "    for file in files: #match non counter examples second\n",
    "        for reg in non_ce_reg:\n",
    "            found = re.match(reg, file)\n",
    "            if found:\n",
    "                file_data = pd.read_csv(file)\n",
    "                v1.append(np.array(file_data[\"v1\"]))\n",
    "                v2.append(np.array(file_data[\"v2\"]))\n",
    "                v3.append(np.array(file_data[\"v3\"]))\n",
    "                v4.append(np.array(file_data[\"v4\"]))\n",
    "                break\n",
    "\n",
    "    os.chdir(start)\n",
    "\n",
    "    return [v1,v2,v3,v4], ce_count\n"
   ]
  },
  {
   "cell_type": "code",
   "execution_count": 52,
   "metadata": {},
   "outputs": [],
   "source": [
    "\n",
    "def read_folder(folder,sampler_file, attack_type):    \n",
    "    \"\"\"\n",
    "    Data prepocessing: returns dataframe with test case specific features\n",
    "    \"\"\"\n",
    "\n",
    "    velocity_data,ce_count = generate_velocity_csv(folder)\n",
    "\n",
    "\n",
    "    simulation_params_df = pd.read_csv(sampler_file)\n",
    "\n",
    "    if attack_type == \"int\":\n",
    "        return(preprocess_intermittent(simulation_params_df,velocity_data)),ce_count\n",
    "    if attack_type == \"per\":\n",
    "        return(preprocess_persistent(simulation_params_df,velocity_data)),ce_count\n",
    "    else:\n",
    "        print(\"Error classifying attack type\")\n",
    "\n",
    "\n",
    "def preprocess_intermittent(sampler_data,velocities_df,):\n",
    "    \"\"\"\n",
    "    Isolates relative columns and generates some new features for analysis\n",
    "\n",
    "    Side Effect: Generates velocity graphs over time with attack indicators\n",
    "    \"\"\"\n",
    "    intermittent_cols = [\"Unnamed: 0\",\"point.params.random_thr_br1\",\"point.params.random_thr_br2\",\"point.params.inter_vehicle_distance\", \"point.params.random_t1\", \"point.params.random_t2\",\"point.params.random_t3\",\"point.params.random_t4\",\"rho\"]\n",
    "    sampler_data =sampler_data[intermittent_cols]\n",
    "    col_names = {\n",
    "        \"Unnamed: 0\" : \"idx\",\n",
    "        \"point.params.random_thr_br1\": \"random_thr_br1\",\n",
    "        \"point.params.random_thr_br2\" : \"random_thr_br2\",\n",
    "        \"point.params.random_t1\" : \"random_t1\",\n",
    "        \"point.params.random_t2\" : \"random_t2\",\n",
    "        \"point.params.random_t3\" : \"random_t3\",\n",
    "        \"point.params.random_t4\" : \"random_t4\",\n",
    "        \"point.params.inter_vehicle_distance\" : \"inter_vehicle_distance\",\n",
    "        \"rho\" : \"rho\"\n",
    "    }\n",
    "    sampler_data = sampler_data.copy()\n",
    "    sampler_data.rename(columns=col_names, inplace=True)\n",
    "    output = get_attack_spacing_intermittent(sampler_data)\n",
    "    output = velocity_at_attack_intermittent(sampler_data,velocities_df)\n",
    "    \n",
    "\n",
    "    return output\n",
    "\n",
    "def preprocess_persistent(sampler_data,velocities_df):\n",
    "    \"\"\"\n",
    "    Isolate relative columns and generates new featurs\n",
    "\n",
    "    Side Effects: Generates velocity graphs over time with attack indicators\n",
    "    \"\"\"\n",
    "    persistent_cols = [ \"Unnamed: 0\",\"point.params.amplitude_acc\", \"point.params.attack_time\", \"point.params.frequency\", \"point.params.inter_vehicle_distance\", \"rho\"]\n",
    "    sampler_data = sampler_data[persistent_cols]\n",
    "    col_names = {\n",
    "        \"Unnamed: 0\" : \"idx\",\n",
    "        \"point.params.amplitude_acc\": \"amplitude_acc\",\n",
    "        \"point.params.attack_time\" : \"attack_time\",\n",
    "        \"point.params.frequency\" : \"frequency\",\n",
    "        \"point.params.inter_vehicle_distance\" : \"inter_vehicle_distance\",\n",
    "        \"rho\" : \"rho\"\n",
    "    }\n",
    "    sampler_data = sampler_data.copy()\n",
    "    sampler_data.rename(columns=col_names, inplace=True)\n",
    "    output = velocity_at_attack_persistent(velocities_df,sampler_data,True)\n",
    "    return output\n",
    "\n",
    "\n"
   ]
  },
  {
   "cell_type": "markdown",
   "metadata": {},
   "source": [
    "# Helper Functions"
   ]
  },
  {
   "cell_type": "code",
   "execution_count": 83,
   "metadata": {},
   "outputs": [],
   "source": [
    "def get_attack_spacing_intermittent(intermittent_df): # Calculate distance between each attack and add to Dataframe\n",
    "    attack_spacing = []\n",
    "    \"\"\"\n",
    "        Calcluates spacing between attacks and appends to given dataframe\n",
    "    \n",
    "    \"\"\"\n",
    "\n",
    "    for simulation_instance in range(len(intermittent_df)):\n",
    "        diff_1 = intermittent_df[\"random_t2\"][simulation_instance] - intermittent_df[\"random_t1\"][simulation_instance] # t2 > t1\n",
    "        diff_2 = intermittent_df[\"random_t3\"][simulation_instance] - intermittent_df[\"random_t2\"][simulation_instance]\n",
    "        diff_3 = intermittent_df[\"random_t4\"][simulation_instance] - intermittent_df[\"random_t3\"][simulation_instance]\n",
    "\n",
    "        sim_gaps = np.array([diff_1,diff_2,diff_3])\n",
    "        attack_spacing.append(sim_gaps)\n",
    "\n",
    "    attack_spacing = np.array(attack_spacing)\n",
    "    col_names = [\"t1_t2\", \"t2_t3\", \"t3_t4\"]\n",
    "    time_df = pd.DataFrame(attack_spacing, columns=col_names)\n",
    "\n",
    "    return(pd.concat([intermittent_df, time_df],axis=1))\n",
    "\n",
    "\n",
    "def velocity_at_attack_intermittent(intermittent_df,velocities_df): # Collect the attackers speed at each attack and append to Dataframe\n",
    "    \"\"\"\n",
    "    Calculates velocity at attack times and appends to dataframe\n",
    "    \"\"\"\n",
    "    times = intermittent_df[[\"random_t1\", \"random_t2\", \"random_t3\",\"random_t4\"]]\n",
    "\n",
    "    attk_vel = []\n",
    "    for sim in range(len(times)):\n",
    "        sim_vel = []\n",
    "        sim_length = len(velocities_df[0][sim])\n",
    "        for col in times.columns:\n",
    "            idx = math.ceil(times[col][sim]) * 10\n",
    "            if idx < sim_length:\n",
    "                sim_vel.append(velocities_df[0][sim][idx])\n",
    "            else:\n",
    "                sim_vel.append(0)\n",
    "        attk_vel.append(sim_vel)\n",
    "        \n",
    "    col_names = [\"t1_velocity\", \"t2_velocity\", \"t3_velocity\", \"t4_velocity\"]\n",
    "    attk_vel = np.array(attk_vel)\n",
    "    final_df = pd.DataFrame(attk_vel, columns=col_names)\n",
    "\n",
    "    if display:\n",
    "        generate_intermittent_attack_graphs(velocities_df,times,intermittent_df)\n",
    "\n",
    "    return (pd.concat([intermittent_df,final_df],axis=1))\n",
    "\n",
    "\n",
    "def velocity_at_attack_persistent(velocities_df, persistent_df, display):\n",
    "    \"\"\"\n",
    "    Calcluates velocity at attack time (initial), and average velocity for the remainder of the attack\n",
    "    \"\"\"\n",
    "    attack_times= persistent_df[\"attack_time\"]\n",
    "\n",
    "\n",
    "    velocity_at_attack = []  # construct custom features\n",
    "    avg_speed_after_attck = []\n",
    "\n",
    "    for sim_instance in range(len(attack_times)):\n",
    "        attack_time = math.ceil(attack_times[sim_instance] * 10) # account for timestep length\n",
    "        velocity_at_attack.append(velocities_df[0][sim_instance][attack_time]) # velocity at attack time\n",
    "        avg_speed_after_attck.append(np.average(velocities_df[0][sim_instance][attack_time:])) # collect that average speed after attack has occured\n",
    "\n",
    "    velocity_at_attack = np.array(velocity_at_attack)\n",
    "    avg_speed_after_attck = np.array(avg_speed_after_attck)\n",
    "    col_names = [[\"pre_attack_velocity\"],[\"attack_velocity_average\"]]\n",
    "    temp_df = pd.DataFrame(velocity_at_attack, columns=col_names[0])\n",
    "    temp_df2 = pd.DataFrame(avg_speed_after_attck,columns=col_names[1]) \n",
    "\n",
    "    if display:\n",
    "        generate_persistent_attack_graphs(velocities_df, persistent_df[\"frequency\"],persistent_df[\"amplitude_acc\"],persistent_df[\"attack_time\"])\n",
    "        \n",
    "\n",
    "\n",
    "    return(pd.concat([persistent_df,temp_df,temp_df2],axis=1))                                    \n"
   ]
  },
  {
   "cell_type": "code",
   "execution_count": null,
   "metadata": {},
   "outputs": [],
   "source": [
    "def distinguish_events(features_df, counter_ex_totals): # Todo improve or build upon to gather attacker_crash instanaces\n",
    "    ce_df = features_df[:counter_ex_totals]\n",
    "    non_ce_df = features_df[counter_ex_totals:]\n",
    "\n",
    "    labels = np.concatenate((np.full(counter_ex_totals,1), np.full(len(features_df)- counter_ex_totals,0)))\n",
    "\n",
    "    return ce_df, non_ce_df, labels"
   ]
  },
  {
   "cell_type": "markdown",
   "metadata": {},
   "source": [
    "# Visualization Tools"
   ]
  },
  {
   "cell_type": "code",
   "execution_count": 78,
   "metadata": {},
   "outputs": [],
   "source": [
    "def generate_persistent_attack_graphs(sim_velocities,att_freq,att_amplitude,times): # okay we gonna have to fix this up later\n",
    "    \"\"\"\n",
    "    Graph Velocity over time w/ displayed amplitude and frequency   \n",
    "    \"\"\"\n",
    "    for i in range(3):\n",
    "        fig, axes = plt.subplots(1, 2, figsize=(12, 5))  # Two side-by-side plots\n",
    "\n",
    "        x = range(len(sim_velocities[0][i]))\n",
    "\n",
    "        # First subplot - Attacker vs Follower 1\n",
    "        axes[0].plot(x, sim_velocities[0][i], label=\"Attacker\")\n",
    "        axes[0].plot(x, sim_velocities[1][i], linestyle=\"--\", color=\"purple\", label=\"Follower 1\")\n",
    "\n",
    "        axes[0].set_title(f\"Velocity Over Time\\nAttack Freq: {int(att_freq[i])}, Amp: {att_amplitude[i]:.2g}\")\n",
    "        axes[0].set_xlabel(f\"Timesteps (.1 secs)\")\n",
    "        axes[0].set_ylabel(\"Velocity (m/s)\")\n",
    "        axes[0].legend()\n",
    "\n",
    "        attack_time = math.ceil(times[i] * 10)\n",
    "        axes[0].axvline(x=attack_time, color='red', alpha=0.7, label=\"Attack Time\")\n",
    "\n",
    "        # Second subplot - Followers 1, 2, and 3\n",
    "        x_followers = range(len(sim_velocities[1][i]))\n",
    "        axes[1].plot(x_followers, sim_velocities[1][i], linestyle=\"--\", color=\"green\", label=\"Follower 1\")\n",
    "        axes[1].plot(x_followers, sim_velocities[2][i], linestyle=\"--\", color=\"blue\", label=\"Follower 2\")\n",
    "        axes[1].plot(x_followers, sim_velocities[3][i], linestyle=\"--\", color=\"purple\", label=\"Follower 3\")\n",
    "\n",
    "        axes[1].set_title(f\"Follower Velocities Over Time\")\n",
    "        axes[1].set_xlabel(\"Timesteps (.1 secs)\")\n",
    "        axes[1].set_ylabel(\"Velocity (m/s)\")\n",
    "        axes[1].legend()\n",
    "\n",
    "        axes[1].axvline(x=attack_time, color='red', alpha=0.7, label=\"Attack Time\")\n",
    "\n",
    "        plt.tight_layout()  # Adjust layout for better spacing\n",
    "        plt.show()\n",
    "\n",
    "def generate_intermittent_attack_graphs(velocities_list,times,intermittent_df):\n",
    "    \"\"\"\n",
    "    Graph velocity over time w/ attack markers displaying attack start\"\n",
    "    \n",
    "    \"\"\"\n",
    "\n",
    "    for i in range(0, 3):\n",
    "        fig, axes = plt.subplots(1, 2, figsize=(12, 5))  # Create a figure with 2 subplots side by side\n",
    "\n",
    "        # First subplot - Attacker velocity\n",
    "        x = range(len(velocities_list[0][i]))\n",
    "        axes[0].plot(x, velocities_list[0][i], label=\"Attacker\")\n",
    "        axes[0].plot(x, velocities_list[1][i], linestyle=\"--\", color=\"purple\", label=\"Follower 1\")\n",
    "\n",
    "        axes[0].set_title(\"Attacker Velocity (m/s) with attack markers\")\n",
    "        axes[0].set_xlabel(\"Timesteps (.1 secs)\")\n",
    "        axes[0].set_ylabel(\"Velocity (m/s)\")\n",
    "      \n",
    "        first = True\n",
    "        for j in times.columns:\n",
    "            attack_time = math.ceil(times[j][i] * 10)\n",
    "            label = \"Attack\" if first else \"_nolegend_\"\n",
    "            axes[0].axvline(x=attack_time, color='red', alpha=0.7, label=label )\n",
    "            first = False\n",
    "\n",
    "\n",
    "        axes[0].legend()\n",
    "\n",
    "        # Second subplot - Followers velocity\n",
    "        x = range(len(velocities_list[2][i]))\n",
    "        axes[1].plot(x, velocities_list[1][i], linestyle=\"--\", alpha=.7,  color=\"green\", label=\"Follower 1\")\n",
    "        axes[1].plot(x, velocities_list[2][i], linestyle=\"--\", alpha=.7, color=\"blue\", label=\"Follower 2\")\n",
    "        axes[1].plot(x, velocities_list[3][i], linestyle=\"--\", alpha=.7, color=\"purple\", label=\"Follower 3\")\n",
    "\n",
    "        axes[1].set_title(\"Followers Velocity (m/s) over time with attack markers\")\n",
    "        axes[1].set_xlabel(\"Timesteps (.1 secs)\")\n",
    "        axes[1].set_ylabel(\"Velocity (m/s)\")\n",
    "\n",
    "        first = True\n",
    "        for j in times.columns:\n",
    "            attack_time = math.ceil(times[j][i] * 10)\n",
    "            label = \"Attack\" if first else \"_nolegend_\"\n",
    "            axes[1].axvline(x=attack_time, color='red', alpha=0.7, label=label )\n",
    "            first = False\n",
    "\n",
    "        axes[1].legend()\n",
    "\n",
    "        # Determine shared limits for x-axis and y-axis\n",
    "        x_min = 0\n",
    "        x_max = max(len(velocities_list[0][i]), len(velocities_list[2][i]))\n",
    "\n",
    "        y_min = min(\n",
    "            min(velocities_list[0][i]), min(velocities_list[1][i]),\n",
    "            min(velocities_list[2][i]), min(velocities_list[3][i])\n",
    "        )\n",
    "        y_max = max(\n",
    "            max(velocities_list[0][i]), max(velocities_list[1][i]),\n",
    "            max(velocities_list[2][i]), max(velocities_list[3][i])\n",
    "        )\n",
    "\n",
    "        # Apply limits to both subplots\n",
    "        axes[0].set_xlim(x_min, x_max)\n",
    "        axes[1].set_xlim(x_min, x_max)\n",
    "        axes[0].set_ylim(y_min, y_max)\n",
    "        axes[1].set_ylim(y_min, y_max)\n",
    "\n",
    "\n",
    "        plt.tight_layout()  # Adjust layout to fit both plots properly\n",
    "        plt.show()\n"
   ]
  },
  {
   "cell_type": "markdown",
   "metadata": {},
   "source": [
    "# Cofactor Analysis"
   ]
  },
  {
   "cell_type": "code",
   "execution_count": null,
   "metadata": {},
   "outputs": [],
   "source": [
    "def cofactor_analysis(ce, non_ce):\n",
    "    feature_names = ce.columns   \n",
    "    X_ce = np.array(ce)\n",
    "    X_non_ce = np.array(non_ce)\n",
    "    \n",
    "    X_ce_scaled = StandardScaler().fit_transform(X_ce)\n",
    "    X_non_ce_scaled = StandardScaler().fit_transform(X_non_ce)\n",
    "    \n",
    "    corr_matrix_ce = np.corrcoef(X_ce_scaled.T)\n",
    "    corr_matrix_non_ce = np.corrcoef(X_non_ce_scaled.T)\n",
    "    \n",
    "    fig, (ax1, ax2) = plt.subplots(1, 2, figsize=(14, 7))\n",
    "    \n",
    "    im1 = ax1.imshow(corr_matrix_ce, cmap=\"RdBu_r\", vmin=-1, vmax=1)\n",
    "    ax1.set_xticks(range(len(feature_names)))\n",
    "    ax1.set_xticklabels(feature_names)\n",
    "    ax1.set_yticks(range(len(feature_names)))\n",
    "    ax1.set_yticklabels(feature_names)\n",
    "    ax1.set_title(\"Correlation Matrix for Counter-Examples\")\n",
    "    plt.setp(ax1.get_xticklabels(), rotation=90, ha='right')  # Rotate x labels for readability\n",
    "    \n",
    "    im2 = ax2.imshow(corr_matrix_non_ce, cmap=\"RdBu_r\", vmin=-1, vmax=1)\n",
    "    ax2.set_xticks(range(len(feature_names)))\n",
    "    ax2.set_xticklabels(feature_names)\n",
    "    ax2.set_yticks(range(len(feature_names)))\n",
    "    ax2.set_yticklabels(feature_names)\n",
    "    ax2.set_title(\"Correlation Matrix for No Counter-Examples\")\n",
    "    plt.setp(ax2.get_xticklabels(), rotation=90, ha='right')  # Rotate x labels for readability\n",
    "    \n",
    "    fig.colorbar(im1, ax=ax1, fraction=0.046, pad=0.04)\n",
    "    fig.colorbar(im2, ax=ax2, fraction=0.046, pad=0.04)\n",
    "    \n",
    "    plt.tight_layout()\n",
    "    plt.show()"
   ]
  },
  {
   "cell_type": "code",
   "execution_count": null,
   "metadata": {},
   "outputs": [],
   "source": [
    "ce,non_ce, labels= distinguish_events(processed_data,ce_count1)\n",
    "ce2, non_ce2, labels = distinguish_events(pd_2, ce_count2)\n",
    "\n",
    "cofactor_analysis(ce,non_ce,labels)\n",
    "cofactor_analysis(ce2,non_ce2,labels)"
   ]
  },
  {
   "cell_type": "markdown",
   "metadata": {},
   "source": [
    "# Test"
   ]
  },
  {
   "cell_type": "code",
   "execution_count": 107,
   "metadata": {},
   "outputs": [],
   "source": [
    "file_path = \"../outputs/persistent_ce/persistent_attack_ce_ce.csv\"\n",
    "dir_path = \"../outputs/persistent_ce\"\n",
    "\n",
    "file_path2 = \"../outputs/intermittent_ce/intermittent_attack_ce_ce.csv\"\n",
    "dir_path2 = \"../outputs/intermittent_ce\"\n"
   ]
  },
  {
   "cell_type": "code",
   "execution_count": null,
   "metadata": {},
   "outputs": [],
   "source": [
    "processed_data, ce_count1 = read_folder(dir_path, file_path,\"per\")\n",
    "pd_2, ce_count2  = read_folder(dir_path2, file_path2, \"int\")"
   ]
  },
  {
   "cell_type": "code",
   "execution_count": 153,
   "metadata": {},
   "outputs": [],
   "source": [
    "pd_2 = pd_2.drop(columns=[\"idx\",\"rho\"])\n",
    "processed_data = processed_data.drop(columns=[\"idx\",\"rho\"])"
   ]
  },
  {
   "cell_type": "code",
   "execution_count": null,
   "metadata": {},
   "outputs": [],
   "source": []
  },
  {
   "cell_type": "markdown",
   "metadata": {},
   "source": [
    "# PCA Analysis"
   ]
  },
  {
   "cell_type": "code",
   "execution_count": null,
   "metadata": {},
   "outputs": [],
   "source": [
    "pca = PCA(n_components=\"mle\")\n"
   ]
  },
  {
   "cell_type": "code",
   "execution_count": null,
   "metadata": {},
   "outputs": [],
   "source": [
    "\n"
   ]
  },
  {
   "cell_type": "code",
   "execution_count": null,
   "metadata": {},
   "outputs": [],
   "source": []
  },
  {
   "cell_type": "markdown",
   "metadata": {},
   "source": [
    "# Curr work"
   ]
  },
  {
   "cell_type": "markdown",
   "metadata": {},
   "source": [
    "Persistent_attack uses frequency to define how often the attack is applied. What are some interesting feature we can extract from this? \n",
    " Total attacks?\n",
    " Time between attacks?\n",
    " Velocity at attack time would still be interesting just a bit more complex to extract.\n",
    "\n",
    "\n",
    "Likely need to rerun data as there was a useless variable EGO_BRAKING_THESHOLD being included in the search space.. I am not sure how much of an effect this would have had but can always re run and see what happens"
   ]
  },
  {
   "cell_type": "code",
   "execution_count": null,
   "metadata": {},
   "outputs": [],
   "source": [
    "file_path = \"../outputs/persistent_ce/persistent_attack_ce.csv\"\n",
    "dir_path = \"../outputs/persistent_ce\"\n",
    "\n",
    "simulation_params_df = pd.read_csv(\"../outputs/persistent_ce/persistent_attack_ce.csv\")"
   ]
  },
  {
   "cell_type": "code",
   "execution_count": null,
   "metadata": {},
   "outputs": [],
   "source": [
    "persistent_cols = [ \"point.params.amplitude_acc\", \"point.params.attack_time\", \"point.params.frequency\", \"point.params.inter_vehicle_distance\", \"rho\"]\n",
    "intemittent_cols = [\"point.params.random_thr_br1\",\"point.params.random_thr_br2\",\"point.params.inter_vehicle_distance\", \"point.params.random_t1\", \"point.params.random_t2\",\"point.params.random_t3\",\"point.params.random_t4\",\"point.params.random_thr_br1\",\"rho\"]"
   ]
  },
  {
   "cell_type": "code",
   "execution_count": null,
   "metadata": {},
   "outputs": [
    {
     "name": "stdout",
     "output_type": "stream",
     "text": [
      "500\n"
     ]
    }
   ],
   "source": [
    "evaluation_simulation_params_df = simulation_params_df[persistent_cols]\n",
    "print(len(evaluation_simulation_params_df))"
   ]
  },
  {
   "cell_type": "code",
   "execution_count": null,
   "metadata": {},
   "outputs": [],
   "source": [
    "files = os.listdir(dir_path)\n",
    "classified_files = classify_simulations(files)"
   ]
  },
  {
   "cell_type": "code",
   "execution_count": null,
   "metadata": {},
   "outputs": [
    {
     "data": {
      "text/html": [
       "<div>\n",
       "<style scoped>\n",
       "    .dataframe tbody tr th:only-of-type {\n",
       "        vertical-align: middle;\n",
       "    }\n",
       "\n",
       "    .dataframe tbody tr th {\n",
       "        vertical-align: top;\n",
       "    }\n",
       "\n",
       "    .dataframe thead th {\n",
       "        text-align: right;\n",
       "    }\n",
       "</style>\n",
       "<table border=\"1\" class=\"dataframe\">\n",
       "  <thead>\n",
       "    <tr style=\"text-align: right;\">\n",
       "      <th></th>\n",
       "      <th>point.params.amplitude_acc</th>\n",
       "      <th>point.params.attack_time</th>\n",
       "      <th>point.params.frequency</th>\n",
       "      <th>point.params.inter_vehicle_distance</th>\n",
       "      <th>rho</th>\n",
       "    </tr>\n",
       "  </thead>\n",
       "  <tbody>\n",
       "    <tr>\n",
       "      <th>count</th>\n",
       "      <td>500.000000</td>\n",
       "      <td>500.000000</td>\n",
       "      <td>500.000000</td>\n",
       "      <td>500.000000</td>\n",
       "      <td>500.000000</td>\n",
       "    </tr>\n",
       "    <tr>\n",
       "      <th>mean</th>\n",
       "      <td>0.341717</td>\n",
       "      <td>6.507021</td>\n",
       "      <td>6.109624</td>\n",
       "      <td>11.331299</td>\n",
       "      <td>2.282775</td>\n",
       "    </tr>\n",
       "    <tr>\n",
       "      <th>std</th>\n",
       "      <td>0.274452</td>\n",
       "      <td>1.975794</td>\n",
       "      <td>2.955776</td>\n",
       "      <td>4.929331</td>\n",
       "      <td>4.627224</td>\n",
       "    </tr>\n",
       "    <tr>\n",
       "      <th>min</th>\n",
       "      <td>0.001723</td>\n",
       "      <td>0.036584</td>\n",
       "      <td>0.057499</td>\n",
       "      <td>7.008833</td>\n",
       "      <td>-0.273221</td>\n",
       "    </tr>\n",
       "    <tr>\n",
       "      <th>25%</th>\n",
       "      <td>0.124351</td>\n",
       "      <td>6.188735</td>\n",
       "      <td>3.267220</td>\n",
       "      <td>8.425303</td>\n",
       "      <td>0.066527</td>\n",
       "    </tr>\n",
       "    <tr>\n",
       "      <th>50%</th>\n",
       "      <td>0.265883</td>\n",
       "      <td>6.950120</td>\n",
       "      <td>6.355811</td>\n",
       "      <td>9.749395</td>\n",
       "      <td>0.242624</td>\n",
       "    </tr>\n",
       "    <tr>\n",
       "      <th>75%</th>\n",
       "      <td>0.534049</td>\n",
       "      <td>7.575427</td>\n",
       "      <td>9.023248</td>\n",
       "      <td>11.140633</td>\n",
       "      <td>1.478580</td>\n",
       "    </tr>\n",
       "    <tr>\n",
       "      <th>max</th>\n",
       "      <td>0.994191</td>\n",
       "      <td>9.980661</td>\n",
       "      <td>9.993043</td>\n",
       "      <td>29.065113</td>\n",
       "      <td>23.108299</td>\n",
       "    </tr>\n",
       "  </tbody>\n",
       "</table>\n",
       "</div>"
      ],
      "text/plain": [
       "       point.params.amplitude_acc  point.params.attack_time  \\\n",
       "count                  500.000000                500.000000   \n",
       "mean                     0.341717                  6.507021   \n",
       "std                      0.274452                  1.975794   \n",
       "min                      0.001723                  0.036584   \n",
       "25%                      0.124351                  6.188735   \n",
       "50%                      0.265883                  6.950120   \n",
       "75%                      0.534049                  7.575427   \n",
       "max                      0.994191                  9.980661   \n",
       "\n",
       "       point.params.frequency  point.params.inter_vehicle_distance         rho  \n",
       "count              500.000000                           500.000000  500.000000  \n",
       "mean                 6.109624                            11.331299    2.282775  \n",
       "std                  2.955776                             4.929331    4.627224  \n",
       "min                  0.057499                             7.008833   -0.273221  \n",
       "25%                  3.267220                             8.425303    0.066527  \n",
       "50%                  6.355811                             9.749395    0.242624  \n",
       "75%                  9.023248                            11.140633    1.478580  \n",
       "max                  9.993043                            29.065113   23.108299  "
      ]
     },
     "execution_count": 12,
     "metadata": {},
     "output_type": "execute_result"
    }
   ],
   "source": [
    "evaluation_simulation_params_df.describe()"
   ]
  },
  {
   "cell_type": "code",
   "execution_count": null,
   "metadata": {},
   "outputs": [],
   "source": [
    "vel_path = \"../outputs/persistent_ce/persistent_attack.scenic500_velocities.csv\"\n",
    "vel_df = pd.read_csv(vel_path)"
   ]
  },
  {
   "cell_type": "markdown",
   "metadata": {},
   "source": [
    "# Constructing features for the persistent Attack"
   ]
  },
  {
   "cell_type": "code",
   "execution_count": null,
   "metadata": {},
   "outputs": [],
   "source": []
  },
  {
   "cell_type": "code",
   "execution_count": null,
   "metadata": {},
   "outputs": [],
   "source": [
    "attack_freq = evaluation_simulation_params_df[\"point.params.frequency\"]\n",
    "attack_amplitude = evaluation_simulation_params_df[\"point.params.amplitude_acc\"]\n"
   ]
  },
  {
   "cell_type": "code",
   "execution_count": null,
   "metadata": {},
   "outputs": [],
   "source": [
    "generate_persistent_attack_graphs(simulation_velocities_arr,attack_freq,attack_amplitude)"
   ]
  },
  {
   "cell_type": "markdown",
   "metadata": {},
   "source": [
    "# Isolate different crash instances"
   ]
  }
 ],
 "metadata": {
  "kernelspec": {
   "display_name": "2_24_sampling_env",
   "language": "python",
   "name": "python3"
  },
  "language_info": {
   "codemirror_mode": {
    "name": "ipython",
    "version": 3
   },
   "file_extension": ".py",
   "mimetype": "text/x-python",
   "name": "python",
   "nbconvert_exporter": "python",
   "pygments_lexer": "ipython3",
   "version": "3.8.10"
  }
 },
 "nbformat": 4,
 "nbformat_minor": 2
}
